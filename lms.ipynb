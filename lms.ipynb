{
 "cells": [
  {
   "cell_type": "markdown",
   "metadata": {},
   "source": [
    "Create a Book Class and initialize the parameters using Constructor"
   ]
  },
  {
   "cell_type": "code",
   "execution_count": 2,
   "metadata": {},
   "outputs": [],
   "source": [
    "class Book:\n",
    "    def __init__(self, Book_title, Book_author, IS_Book_number):\n",
    "        self.Book_title = Book_title\n",
    "        self.Book_author = Book_author\n",
    "        self.IS_Book_number= IS_Book_number\n",
    "        self.is_available = True\n",
    "\n",
    "    def displayinfo(self):\n",
    "        print(f\"Title: {self.Book_title}\\nAuthor: {self.Book_author}\\nIS_Book_Number: {self.IS_Book_number}\\nAvailable: {self.is_available}\\n\")"
   ]
  },
  {
   "cell_type": "markdown",
   "metadata": {},
   "source": [
    "Assign books to keep in the library list"
   ]
  },
  {
   "cell_type": "code",
   "execution_count": 3,
   "metadata": {},
   "outputs": [
    {
     "name": "stdout",
     "output_type": "stream",
     "text": [
      "Title: The Great Gatsby\n",
      "Author: F. Scott Fitzgerald\n",
      "IS_Book_Number: 978-3-16-148410-0\n",
      "Available: True\n",
      "\n",
      "Title: To Kill a Mockingbird\n",
      "Author: Harper Lee\n",
      "IS_Book_Number: 978-0-06-112008-0\n",
      "Available: True\n",
      "\n",
      "Title: Pride and Prejudice\n",
      "Author: Jane Austen\n",
      "IS_Book_Number: 978-0-06-112008-0\n",
      "Available: True\n",
      "\n"
     ]
    }
   ],
   "source": [
    "x = Book(\"The Great Gatsby\", \"F. Scott Fitzgerald\", \"978-3-16-148410-0\")\n",
    "y = Book(\"To Kill a Mockingbird\", \"Harper Lee\", \"978-0-06-112008-0\")\n",
    "z = Book(\"Pride and Prejudice\", \"Jane Austen\", \"978-0-06-112008-0\")\n",
    " \n",
    "x.displayinfo()\n",
    "y.displayinfo()\n",
    "z.displayinfo() "
   ]
  },
  {
   "cell_type": "markdown",
   "metadata": {},
   "source": [
    "Create a Library Class by initializing the parameters and adding methods"
   ]
  },
  {
   "cell_type": "code",
   "execution_count": 4,
   "metadata": {},
   "outputs": [
    {
     "name": "stdout",
     "output_type": "stream",
     "text": [
      "Book 'The Great Gatsby' added to the library.\n",
      "Book 'To Kill a Mockingbird' added to the library.\n",
      "Book 'Pride and Prejudice' added to the library.\n"
     ]
    }
   ],
   "source": [
    "class Library:\n",
    "    def __init__(self):\n",
    "        self.books = []\n",
    "\n",
    "    def add_book(self, book):\n",
    "        self. books.append(book)\n",
    "        print(f\"Book '{book.Book_title}' added to the library.\")\n",
    "\n",
    "    def display_books(self):\n",
    "        print(\"List of Library Books:\")\n",
    "        for i in self.books:\n",
    "            i.display_info()\n",
    "\n",
    "    def lend_book(self, Book_title):\n",
    "        for j in self.books:\n",
    "            if j.Book_title == Book_title and j.is_available:\n",
    "                j.is_available = False\n",
    "                print(f\"Book '{Book_title}' has been lent.\")\n",
    "                return\n",
    "        print(f\"Sorry, '{Book_title}' is either not available or does not exist in the library.\")\n",
    "\n",
    "    def return_book(self, Book_title):\n",
    "        for k in self.books:\n",
    "            if k.Book_title == Book_title and not k.is_available:\n",
    "                k.is_available = True\n",
    "                print(f\"Book '{Book_title}' has been returned.\")\n",
    "                return\n",
    "        print(f\"Sorry, '{Book_title}' cannot be returned. Check the book title or availability.\")\n",
    "    def available_books(self):\n",
    "        return [book for book in self.books if book.is_available]\n",
    "\n",
    "    def display_current_books(self):\n",
    "        current_books = self.available_books()\n",
    "        if not current_books:\n",
    "            print(\"No books currently available in the library.\")\n",
    "        else:\n",
    "            print(\"\\nCurrent Books in the Library:\")\n",
    "            for book in current_books:\n",
    "                book.display_info()\n",
    "\n",
    "library = Library()\n",
    "library.add_book(x)\n",
    "library.add_book(y)\n",
    "library.add_book(z)"
   ]
  },
  {
   "cell_type": "markdown",
   "metadata": {},
   "source": [
    "Display the books in the library"
   ]
  },
  {
   "cell_type": "code",
   "execution_count": 6,
   "metadata": {},
   "outputs": [
    {
     "name": "stdout",
     "output_type": "stream",
     "text": [
      "Book 'The Great Gatsby' has been lent.\n",
      "Book 'Pride and Prejudice' has been lent.\n",
      "Book 'To Kill a Mockingbird' has been lent.\n",
      "Book 'Pride and Prejudice' has been returned.\n",
      "\n",
      "Current Books in the Library:\n"
     ]
    },
    {
     "ename": "AttributeError",
     "evalue": "'Book' object has no attribute 'display_info'",
     "output_type": "error",
     "traceback": [
      "\u001b[1;31m---------------------------------------------------------------------------\u001b[0m",
      "\u001b[1;31mAttributeError\u001b[0m                            Traceback (most recent call last)",
      "Cell \u001b[1;32mIn[6], line 7\u001b[0m\n\u001b[0;32m      5\u001b[0m library\u001b[38;5;241m.\u001b[39mlend_book(\u001b[38;5;124m\"\u001b[39m\u001b[38;5;124mTo Kill a Mockingbird\u001b[39m\u001b[38;5;124m\"\u001b[39m)\n\u001b[0;32m      6\u001b[0m library\u001b[38;5;241m.\u001b[39mreturn_book(\u001b[38;5;124m\"\u001b[39m\u001b[38;5;124mPride and Prejudice\u001b[39m\u001b[38;5;124m\"\u001b[39m) \n\u001b[1;32m----> 7\u001b[0m \u001b[43mlibrary\u001b[49m\u001b[38;5;241;43m.\u001b[39;49m\u001b[43mdisplay_current_books\u001b[49m\u001b[43m(\u001b[49m\u001b[43m)\u001b[49m \u001b[38;5;66;03m#check current list of books in library after lending and returning books.\u001b[39;00m\n",
      "Cell \u001b[1;32mIn[4], line 39\u001b[0m, in \u001b[0;36mLibrary.display_current_books\u001b[1;34m(self)\u001b[0m\n\u001b[0;32m     37\u001b[0m \u001b[38;5;28mprint\u001b[39m(\u001b[38;5;124m\"\u001b[39m\u001b[38;5;130;01m\\n\u001b[39;00m\u001b[38;5;124mCurrent Books in the Library:\u001b[39m\u001b[38;5;124m\"\u001b[39m)\n\u001b[0;32m     38\u001b[0m \u001b[38;5;28;01mfor\u001b[39;00m book \u001b[38;5;129;01min\u001b[39;00m current_books:\n\u001b[1;32m---> 39\u001b[0m     \u001b[43mbook\u001b[49m\u001b[38;5;241;43m.\u001b[39;49m\u001b[43mdisplay_info\u001b[49m()\n",
      "\u001b[1;31mAttributeError\u001b[0m: 'Book' object has no attribute 'display_info'"
     ]
    }
   ],
   "source": [
    "#library.display_books()\n",
    "\n",
    "library.lend_book('The Great Gatsby')\n",
    "library.lend_book(\"Pride and Prejudice\")  #To see the output I checked againstthe library.lend_book(\"\") ---- check with empty request\n",
    "library.lend_book(\"To Kill a Mockingbird\")\n",
    "library.return_book(\"Pride and Prejudice\") \n",
    "library.display_current_books() #check current list of books in library after lending and returning books."
   ]
  }
 ],
 "metadata": {
  "kernelspec": {
   "display_name": "Python 3",
   "language": "python",
   "name": "python3"
  },
  "language_info": {
   "codemirror_mode": {
    "name": "ipython",
    "version": 3
   },
   "file_extension": ".py",
   "mimetype": "text/x-python",
   "name": "python",
   "nbconvert_exporter": "python",
   "pygments_lexer": "ipython3",
   "version": "3.13.0"
  }
 },
 "nbformat": 4,
 "nbformat_minor": 2
}
